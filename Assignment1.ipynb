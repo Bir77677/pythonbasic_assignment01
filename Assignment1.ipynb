{
 "cells": [
  {
   "cell_type": "markdown",
   "metadata": {},
   "source": [
    "1. What is Python, and why is it popular?\n",
    "Python is a highlevel programming language. Its popular for the readability and simplicity of syntax which makes it easy to learn and write along with its extensive libraries helpful in web development, data science, machine learning & automation.\n",
    "\n",
    "2. What is an interpreter in Python?\n",
    "Interpreters are the computer programme that converts the high leavel language to low leavel machine level language. It acts like a translator between user and machine. This process called interpretation and it carefully executed line by line.\n",
    "\n",
    "3. What are pre-defined keywords in Python?\n",
    "Python have reserved 36 words which is asigned to a specific task. These words can't be used as variables or function names, like: True, False, None, and, as, is, in, if, else, etc..\n",
    "\n",
    "4. Can keywords be used as variable names?\n",
    "No. To avoid unwanted confusion for user as well as interpretre by default we were debared using the keyword as variable.\n",
    "\n",
    "5. What is mutability in Python?\n",
    "In Python, mutability refers to the ability of an object to be changed or modified after it have been created. For example mutable objects like lists, dictionaries, and sets allows us to modify by appending and inserting iteams into it.\n",
    "\n",
    "6. Why are lists mutable, but tuples are immutable?\n",
    "Python being a sufficient and adaptive programming language provides user to have both flexible and fixed iteam database for dynamic use. Fixed database can be used for recording user bio and fixed can be used for user behaviour.\n",
    "\n",
    "7. What is the difference between “==” and “is” operators in Python?\n",
    "The \"==\" is known as equality operator and used to compare the values of two objects. If the values are the same, the operator returns True else False.\n",
    "But the \"is\" is known as identity operator and used to check if two variable return same value to the memory. If the memory location is same, means exactly the same object the operator returns True else False.\n",
    "\n",
    "8. What are logical operators in Python?\n",
    "\"and\", \"or\", \"not\" are the logical operators in Python, thats return True or False value on application based on the comparision.\n",
    "\n",
    "9. What is type casting in Python?\n",
    "The process of changing the data type of a variable from one type to another in Python is called typecasting. This process can be categorized into two types: implicit (automatic) casting and explicit (manual) casting.\n",
    "\n",
    "10. What is the difference between implicit and explicit type casting?\n",
    "Implicit casting occurs automatically when the system handles the conversion without the programmer's intervention; example: changing the integer data type to float after a division operation. And explicit casting occurs when programmer do it on purpose; example: taking input as integer from user.\n",
    "\n",
    "11. What is the purpose of conditional statements in Python?\n",
    "Conditional statements in Python are used to execute blocks of code based on the truth value of the given condition, allowing the program to make decisions and control the flow of execution.\n",
    "\n",
    "12. How does the elif statement work?\n",
    "In Python, the elif statement, which stands for \"else if,\" is used to check multiple conditions sequentially. If the first condition in an if statement is false, the program checks the next elif condition. If that condition is true, the corresponding block of code is executed. If none of the conditions are true, the code block under the else statement is executed. This called nested else-if also.\n",
    "\n",
    "13. What is the difference between for and while loops?\n",
    "In Python for loops are used to iterate over a range and efficient in a sequence of items, such as a list or tuple.\n",
    "A while loop, on the other hand, is used to execute a block of conditional statements while a condition is true.\n",
    "\n",
    "14. Describe a scenario where a while loop is more suitable than a for loop.\n",
    "A while loop is more suitable than a for loop when you do not know the number of iterations needed in advance. For example, if you want to count down from 100 until you find a prime number, you would use a while loop because the number of iterations required to find a prime number is unknown\n"
   ]
  },
  {
   "cell_type": "code",
   "execution_count": null,
   "metadata": {},
   "outputs": [
    {
     "name": "stdout",
     "output_type": "stream",
     "text": [
      "Hello World\n"
     ]
    }
   ],
   "source": [
    "#1. Write a Python program to print \"Hello, World!\"\n",
    "print(\"Hello World\")"
   ]
  },
  {
   "cell_type": "code",
   "execution_count": 2,
   "metadata": {},
   "outputs": [
    {
     "name": "stdout",
     "output_type": "stream",
     "text": [
      "Hello! My name is Birupakshya \n",
      " I am 28 Years old\n"
     ]
    }
   ],
   "source": [
    "#2. Write a Python program that displays your name and age\n",
    "name= \"Birupakshya\"\n",
    "age= 28\n",
    "\n",
    "print(f\"Hello! My name is {name} \\n I am {age} Years old.\")"
   ]
  },
  {
   "cell_type": "code",
   "execution_count": 4,
   "metadata": {},
   "outputs": [
    {
     "name": "stdout",
     "output_type": "stream",
     "text": [
      "False  None  True  and  as  assert  async  await  break  class  continue  def  del  elif  else  except  finally  for  from  global  if  import  in  is  lambda  nonlocal  not  or  pass  raise  return  try  while  with  yield  "
     ]
    }
   ],
   "source": [
    "#3. Write code to print all the pre-defined keywords in Python using the keyword library\n",
    "import keyword\n",
    "s  = keyword.kwlist\n",
    "for i in s:\n",
    "    print(i, end=\"  \")\n"
   ]
  },
  {
   "cell_type": "code",
   "execution_count": 10,
   "metadata": {},
   "outputs": [
    {
     "name": "stdout",
     "output_type": "stream",
     "text": [
      "False\n"
     ]
    }
   ],
   "source": [
    "#4. Write a program that checks if a given word is a Python keyword\n",
    "import keyword\n",
    "v = input(\"Enter Your desired function/variable name:\")\n",
    "print(keyword.iskeyword(v))\n"
   ]
  },
  {
   "cell_type": "code",
   "execution_count": null,
   "metadata": {},
   "outputs": [
    {
     "name": "stdout",
     "output_type": "stream",
     "text": [
      "[1, 3, 4, 5, 7, 8]\n",
      "[0, 2, 3, 4, 5, 7, 8, 9]\n",
      "(1, 2, 3, 5)\n",
      "(0, 2, 3, 4, 5, 6)\n"
     ]
    }
   ],
   "source": [
    "#5. Create a list and tuple in Python, and demonstrate how attempting to change an element works differently for each\n",
    "#changing a List\n",
    "lis =[1, 3, 4, 5, 7, 8]     #list of digits\n",
    "print(lis)\n",
    "lis.append(9)               #adding a number in end\n",
    "lis[0] = 0                  #changing a number in a particular index\n",
    "lis.insert(1,2)             #inserting a number in a particular index\n",
    "print(lis)\n",
    "#changing a tuple\n",
    "tup = (1, 2, 3, 5)\n",
    "print(tup)\n",
    "#tup.append(5)              #ERROR\n",
    "#tup[0]=0                   #ERROR\n",
    "temp= list(tup)             #assigning the tuple to a temporary list\n",
    "temp.append(6)              #adding a number in end\n",
    "temp.insert(-2,4)           #inserting a number in a particular index\n",
    "temp[0] = 0                  #changing a number in a particular index\n",
    "tup = tuple(temp)\n",
    "print(tup)"
   ]
  },
  {
   "cell_type": "code",
   "execution_count": 21,
   "metadata": {},
   "outputs": [
    {
     "name": "stdout",
     "output_type": "stream",
     "text": [
      "[1, 3, 4, 5, 7, 8]\n",
      "[0, 2, 3, 4, 5, 7, 8, 9]\n",
      "(1, 2, 3, 5)\n"
     ]
    }
   ],
   "source": [
    "#6. Write a function to demonstrate the behavior of mutable and immutable arguments.\n",
    "lis =[1, 3, 4, 5, 7, 8]     #list of digits\n",
    "print(lis)\n",
    "lis.append(9)               #adding a number in end                                 Mutable\n",
    "lis[0] = 0                  #changing a number in a particular index\n",
    "lis.insert(1,2)             #inserting a number in a particular index\n",
    "print(lis)\n",
    "#changing a tuple\n",
    "tup = (1, 2, 3, 5)\n",
    "print(tup)\n",
    "#tup.append(5)              #ERROR                                                  Immutable\n",
    "#tup[0]=0                   #ERROR\n",
    "temp= list(tup)             #assigning the tuple to a temporary list\n",
    "temp.append(6)              #adding a number in end\n"
   ]
  },
  {
   "cell_type": "code",
   "execution_count": 23,
   "metadata": {},
   "outputs": [
    {
     "name": "stdout",
     "output_type": "stream",
     "text": [
      "The addition of your given numbers is:1254+653= 1907\n"
     ]
    }
   ],
   "source": [
    "#7. Write a program that performs basic arithmetic operations on two user-input numbers.\n",
    "a = int(input(\"Enter first number:\"))\n",
    "b = int(input(\"Enter second number:\"))\n",
    "print(f\"The addition of your given numbers is:{a}+{b}=\", a+b)"
   ]
  },
  {
   "cell_type": "code",
   "execution_count": 26,
   "metadata": {},
   "outputs": [
    {
     "name": "stdout",
     "output_type": "stream",
     "text": [
      "c is not largest\n"
     ]
    }
   ],
   "source": [
    "#8. Write a program to demonstrate the use of logical operators.\n",
    "a = 500\n",
    "b = 100\n",
    "c = 300\n",
    "if (a<b and a<c):\n",
    "    print(\"a is smallest\")\n",
    "elif(a==b or a==c):\n",
    "    print(\"Two numbers are same\")\n",
    "elif(c<b or c<a):\n",
    "    print(\"c is not largest\")\n",
    "else:\n",
    "    print(\"b is largest\")"
   ]
  },
  {
   "cell_type": "code",
   "execution_count": 35,
   "metadata": {},
   "outputs": [
    {
     "name": "stdout",
     "output_type": "stream",
     "text": [
      "8 <class 'str'>\n",
      "True <class 'bool'>\n",
      "8.0 <class 'float'>\n",
      "8 <class 'int'>\n"
     ]
    }
   ],
   "source": [
    "#9. Write a Python program to convert user input from string to integer, float, and boolean types.\n",
    "a = input(\"Enter a number:\")\n",
    "b= bool(a)\n",
    "f= float(a)\n",
    "i= int(a)\n",
    "print(a, type(a))\n",
    "print(b, type(b))\n",
    "print(f, type(f))\n",
    "print(i, type(i))\n"
   ]
  },
  {
   "cell_type": "code",
   "execution_count": 41,
   "metadata": {},
   "outputs": [
    {
     "name": "stdout",
     "output_type": "stream",
     "text": [
      "[1, 2, 3, 4, 5, 6] <class 'int'>\n",
      "['1', '2', '3', '4', '5', '6'] <class 'str'>\n"
     ]
    }
   ],
   "source": [
    "#10. Write code to demonstrate type casting with list elements.\n",
    "lis= [1, 2, 3, 4, 5, 6]\n",
    "print(lis, type(lis[0]))\n",
    "\n",
    "lis = [str(x) for x in lis]\n",
    "print(lis, type(lis[0]))"
   ]
  },
  {
   "cell_type": "code",
   "execution_count": 50,
   "metadata": {},
   "outputs": [
    {
     "name": "stdout",
     "output_type": "stream",
     "text": [
      "-564 :The number is negative.\n"
     ]
    }
   ],
   "source": [
    "#11. Write a program that checks if a number is positive, negative, or zero.\n",
    "a = int(input(\"Enter a number:\"))\n",
    "if (a>0):\n",
    "    print(a, \":The number is positive.\")\n",
    "elif (a<0):\n",
    "    print(a, \":The number is negative.\")\n",
    "else:\n",
    "    print(a, \":The number is zero.\")"
   ]
  },
  {
   "cell_type": "code",
   "execution_count": 55,
   "metadata": {},
   "outputs": [
    {
     "name": "stdout",
     "output_type": "stream",
     "text": [
      "0  \n",
      "\n",
      "1  2  3  4  5  6  7  8  9  10  \n",
      "\n",
      "11  12  13  14  15  16  17  18  19  20  \n",
      "\n",
      "21  22  23  24  25  26  27  28  29  30  \n",
      "\n",
      "31  32  33  34  35  36  37  38  39  40  \n",
      "\n",
      "41  42  43  44  45  46  47  48  49  50  \n",
      "\n",
      "51  52  53  54  55  56  57  58  59  60  \n",
      "\n",
      "61  62  63  64  65  66  67  68  69  70  \n",
      "\n",
      "71  72  73  74  75  76  77  78  79  80  \n",
      "\n",
      "81  82  83  84  85  86  87  88  89  90  \n",
      "\n",
      "91  92  93  94  95  96  97  98  99  100  \n",
      "\n"
     ]
    }
   ],
   "source": [
    "#12. Write a for loop to print numbers from 1 to 10.\n",
    "for i in range(0,101):\n",
    "    print(i, end=\"  \")\n",
    "    if ((i % 10)==0):\n",
    "        print(\"\\n\")"
   ]
  },
  {
   "cell_type": "code",
   "execution_count": 63,
   "metadata": {},
   "outputs": [
    {
     "name": "stdout",
     "output_type": "stream",
     "text": [
      "Sum of 1 to 50 is= 650.0\n",
      "Sum of 1 to 50 is = 650\n"
     ]
    }
   ],
   "source": [
    "#13. Write a Python program to find the sum of all even numbers between 1 and 50.\n",
    "#using math formula\n",
    "i=50\n",
    "print(f\"Sum of 1 to {i} is=\", (i/2*(i/2+1)))\n",
    "\n",
    "#using loop\n",
    "i=1\n",
    "c=0\n",
    "while(i<=50):\n",
    "    if ((i%2)==0):\n",
    "        c = c+i\n",
    "    i = i+1\n",
    "print(f\"Sum of 1 to {i-1} is =\",c)"
   ]
  },
  {
   "cell_type": "code",
   "execution_count": 74,
   "metadata": {},
   "outputs": [
    {
     "name": "stdout",
     "output_type": "stream",
     "text": [
      "13\n",
      "nohtyP evol i\n"
     ]
    }
   ],
   "source": [
    "# 14. Write a program to reverse a string using a while loop.\n",
    "chr = \"i love Python\"\n",
    "chrrev = \"\"\n",
    "i = len(chr)\n",
    "print(i)\n",
    "while(i>0):\n",
    "    chrrev = chrrev + chr[i-1]\n",
    "    i = i-1\n",
    "print(chrrev)"
   ]
  },
  {
   "cell_type": "code",
   "execution_count": 77,
   "metadata": {},
   "outputs": [
    {
     "name": "stdout",
     "output_type": "stream",
     "text": [
      "479001600\n"
     ]
    }
   ],
   "source": [
    "#15. Write a Python program to calculate the factorial of a number provided by the user using a while loop.\n",
    "a = int(input(\"Provide the number to calculate factorial:\"))\n",
    "i = 1\n",
    "while(a>0):\n",
    "    i = i*a\n",
    "    a = a-1\n",
    "print(i)"
   ]
  },
  {
   "cell_type": "code",
   "execution_count": null,
   "metadata": {},
   "outputs": [],
   "source": []
  }
 ],
 "metadata": {
  "kernelspec": {
   "display_name": "Python 3",
   "language": "python",
   "name": "python3"
  },
  "language_info": {
   "codemirror_mode": {
    "name": "ipython",
    "version": 3
   },
   "file_extension": ".py",
   "mimetype": "text/x-python",
   "name": "python",
   "nbconvert_exporter": "python",
   "pygments_lexer": "ipython3",
   "version": "3.13.2"
  }
 },
 "nbformat": 4,
 "nbformat_minor": 2
}
